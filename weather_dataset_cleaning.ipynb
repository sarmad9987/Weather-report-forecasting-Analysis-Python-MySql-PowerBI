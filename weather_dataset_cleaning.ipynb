{
 "cells": [
  {
   "attachments": {
    "download.png": {
     "image/png": "[encoded data removed]"
    }
   },
   "cell_type": "markdown",
   "id": "3de94b23",
   "metadata": {},
   "source": [
    "![download.png](attachment:download.png)"
   ]
  },
  {
   "cell_type": "code",
   "execution_count": 1,
   "id": "c32e7550",
   "metadata": {},
   "outputs": [],
   "source": [
    "import numpy as np\n",
    "import pandas as pd\n",
    "pd.set_option('display.max_columns', 100)\n",
    "import matplotlib.pyplot as plt\n",
    "%matplotlib inline"
   ]
  },
  {
   "cell_type": "code",
   "execution_count": 2,
   "id": "caba7f92",
   "metadata": {},
   "outputs": [],
   "source": [
    "data=pd.read_csv('weather_data.csv')\n",
    "df=data.copy()"
   ]
  },
  {
   "cell_type": "code",
   "execution_count": 3,
   "id": "8b03eb68",
   "metadata": {},
   "outputs": [
    {
     "data": {
      "text/html": [
       "<div>\n",
       "<style scoped>\n",
       "    .dataframe tbody tr th:only-of-type {\n",
       "        vertical-align: middle;\n",
       "    }\n",
       "\n",
       "    .dataframe tbody tr th {\n",
       "        vertical-align: top;\n",
       "    }\n",
       "\n",
       "    .dataframe thead th {\n",
       "        text-align: right;\n",
       "    }\n",
       "</style>\n",
       "<table border=\"1\" class=\"dataframe\">\n",
       "  <thead>\n",
       "    <tr style=\"text-align: right;\">\n",
       "      <th></th>\n",
       "      <th>Date</th>\n",
       "      <th>Temperature</th>\n",
       "      <th>Average humidity (%</th>\n",
       "      <th>Average dewpoint (°F</th>\n",
       "      <th>Average barometer (in</th>\n",
       "      <th>Average windspeed (mph</th>\n",
       "      <th>Average gustspeed (mph</th>\n",
       "      <th>Average direction (°deg</th>\n",
       "      <th>Rainfall for month (in</th>\n",
       "      <th>Rainfall for year (in</th>\n",
       "      <th>Maximum rain per minute</th>\n",
       "      <th>Maximum temperature (°F</th>\n",
       "      <th>Minimum temperature (°F</th>\n",
       "      <th>Maximum humidity (%</th>\n",
       "      <th>Minimum humidity (%</th>\n",
       "      <th>Maximum pressure</th>\n",
       "      <th>Minimum pressure</th>\n",
       "      <th>Maximum windspeed (mph</th>\n",
       "      <th>Maximum gust speed (mph</th>\n",
       "      <th>Maximum heat index (°F</th>\n",
       "      <th>Date1</th>\n",
       "      <th>Month</th>\n",
       "      <th>diff_pressure</th>\n",
       "    </tr>\n",
       "  </thead>\n",
       "  <tbody>\n",
       "    <tr>\n",
       "      <th>0</th>\n",
       "      <td>01/01/2022</td>\n",
       "      <td>'37.8'</td>\n",
       "      <td>'35.0'</td>\n",
       "      <td>'12.7'</td>\n",
       "      <td>'29.7'</td>\n",
       "      <td>'26.4'</td>\n",
       "      <td>'36.8'</td>\n",
       "      <td>'274.0'</td>\n",
       "      <td>'0.0'</td>\n",
       "      <td>'0.0'</td>\n",
       "      <td>'0.0'</td>\n",
       "      <td>'40.0'</td>\n",
       "      <td>'34.0'</td>\n",
       "      <td>'4.0'</td>\n",
       "      <td>'27.0'</td>\n",
       "      <td>'29.762'</td>\n",
       "      <td>'29.596'</td>\n",
       "      <td>'41.4'</td>\n",
       "      <td>'59.0'</td>\n",
       "      <td>'40.0'</td>\n",
       "      <td>'2022-01-01'</td>\n",
       "      <td>'01'</td>\n",
       "      <td>'0.16600000000000037'</td>\n",
       "    </tr>\n",
       "    <tr>\n",
       "      <th>1</th>\n",
       "      <td>2022-01-02'</td>\n",
       "      <td>'43.2'</td>\n",
       "      <td>'32.0'</td>\n",
       "      <td>'14.7'</td>\n",
       "      <td>'29.5'</td>\n",
       "      <td>'12.8'</td>\n",
       "      <td>'18.0'</td>\n",
       "      <td>'240.0'</td>\n",
       "      <td>'0.0'</td>\n",
       "      <td>'0.0'</td>\n",
       "      <td>'0.0'</td>\n",
       "      <td>'52.0'</td>\n",
       "      <td>'37.0'</td>\n",
       "      <td>'4.0'</td>\n",
       "      <td>'16.0'</td>\n",
       "      <td>'29.669'</td>\n",
       "      <td>'29.268'</td>\n",
       "      <td>'35.7'</td>\n",
       "      <td>'51.0'</td>\n",
       "      <td>'52.0'</td>\n",
       "      <td>'2022-01-02'</td>\n",
       "      <td>'01'</td>\n",
       "      <td>'0.4009999999999998'</td>\n",
       "    </tr>\n",
       "    <tr>\n",
       "      <th>2</th>\n",
       "      <td>2022-01-03'</td>\n",
       "      <td>'25.7'</td>\n",
       "      <td>'60.0'</td>\n",
       "      <td>'12.7'</td>\n",
       "      <td>'29.7'</td>\n",
       "      <td>'8.3'</td>\n",
       "      <td>'12.2'</td>\n",
       "      <td>'290.0'</td>\n",
       "      <td>'0.0'</td>\n",
       "      <td>'0.0'</td>\n",
       "      <td>'0.0'</td>\n",
       "      <td>'41.0'</td>\n",
       "      <td>'6.0'</td>\n",
       "      <td>'8.0'</td>\n",
       "      <td>'35.0'</td>\n",
       "      <td>'30.232'</td>\n",
       "      <td>'29.26'</td>\n",
       "      <td>'25.3'</td>\n",
       "      <td>'38.0'</td>\n",
       "      <td>'41.0'</td>\n",
       "      <td>'2022-01-03'</td>\n",
       "      <td>'01'</td>\n",
       "      <td>'0.9719999999999978'</td>\n",
       "    </tr>\n",
       "    <tr>\n",
       "      <th>3</th>\n",
       "      <td>2022-01-04'</td>\n",
       "      <td>'9.3'</td>\n",
       "      <td>'67.0'</td>\n",
       "      <td>'0.1'</td>\n",
       "      <td>'30.4'</td>\n",
       "      <td>'2.9'</td>\n",
       "      <td>'4.5'</td>\n",
       "      <td>'47.0'</td>\n",
       "      <td>'0.0'</td>\n",
       "      <td>'0.0'</td>\n",
       "      <td>'0.0'</td>\n",
       "      <td>'19.0'</td>\n",
       "      <td>'-0.0'</td>\n",
       "      <td>'7.0'</td>\n",
       "      <td>'35.0'</td>\n",
       "      <td>'30.566'</td>\n",
       "      <td>'30.227'</td>\n",
       "      <td>'12.7'</td>\n",
       "      <td>'20.0'</td>\n",
       "      <td>'32.0'</td>\n",
       "      <td>'2022-01-04'</td>\n",
       "      <td>'01'</td>\n",
       "      <td>'0.33899999999999864'</td>\n",
       "    </tr>\n",
       "    <tr>\n",
       "      <th>4</th>\n",
       "      <td>2022-01-05'</td>\n",
       "      <td>'23.5'</td>\n",
       "      <td>'30.0'</td>\n",
       "      <td>'-5.3'</td>\n",
       "      <td>'29.9'</td>\n",
       "      <td>'16.7'</td>\n",
       "      <td>'23.1'</td>\n",
       "      <td>'265.0'</td>\n",
       "      <td>'0.0'</td>\n",
       "      <td>'0.0'</td>\n",
       "      <td>'0.0'</td>\n",
       "      <td>'30.0'</td>\n",
       "      <td>'15.0'</td>\n",
       "      <td>'5.0'</td>\n",
       "      <td>'13.0'</td>\n",
       "      <td>'30.233'</td>\n",
       "      <td>'29.568'</td>\n",
       "      <td>'38.0'</td>\n",
       "      <td>'53.0'</td>\n",
       "      <td>'32.0'</td>\n",
       "      <td>'2022-01-05'</td>\n",
       "      <td>'01'</td>\n",
       "      <td>'0.6649999999999991'</td>\n",
       "    </tr>\n",
       "  </tbody>\n",
       "</table>\n",
       "</div>"
      ],
      "text/plain": [
       "          Date  Temperature  Average humidity (%  Average dewpoint (°F  \\\n",
       "0   01/01/2022       '37.8'               '35.0'                '12.7'   \n",
       "1  2022-01-02'       '43.2'               '32.0'                '14.7'   \n",
       "2  2022-01-03'       '25.7'               '60.0'                '12.7'   \n",
       "3  2022-01-04'        '9.3'               '67.0'                 '0.1'   \n",
       "4  2022-01-05'       '23.5'               '30.0'                '-5.3'   \n",
       "\n",
       "   Average barometer (in  Average windspeed (mph  Average gustspeed (mph  \\\n",
       "0                 '29.7'                  '26.4'                  '36.8'   \n",
       "1                 '29.5'                  '12.8'                  '18.0'   \n",
       "2                 '29.7'                   '8.3'                  '12.2'   \n",
       "3                 '30.4'                   '2.9'                   '4.5'   \n",
       "4                 '29.9'                  '16.7'                  '23.1'   \n",
       "\n",
       "   Average direction (°deg  Rainfall for month (in Rainfall for year (in  \\\n",
       "0                  '274.0'                   '0.0'                 '0.0'   \n",
       "1                  '240.0'                   '0.0'                 '0.0'   \n",
       "2                  '290.0'                   '0.0'                 '0.0'   \n",
       "3                   '47.0'                   '0.0'                 '0.0'   \n",
       "4                  '265.0'                   '0.0'                 '0.0'   \n",
       "\n",
       "   Maximum rain per minute  Maximum temperature (°F  Minimum temperature (°F  \\\n",
       "0                    '0.0'                   '40.0'                   '34.0'   \n",
       "1                    '0.0'                   '52.0'                   '37.0'   \n",
       "2                    '0.0'                   '41.0'                    '6.0'   \n",
       "3                    '0.0'                   '19.0'                   '-0.0'   \n",
       "4                    '0.0'                   '30.0'                   '15.0'   \n",
       "\n",
       "   Maximum humidity (%  Minimum humidity (%  Maximum pressure  \\\n",
       "0                '4.0'               '27.0'          '29.762'   \n",
       "1                '4.0'               '16.0'          '29.669'   \n",
       "2                '8.0'               '35.0'          '30.232'   \n",
       "3                '7.0'               '35.0'          '30.566'   \n",
       "4                '5.0'               '13.0'          '30.233'   \n",
       "\n",
       "   Minimum pressure  Maximum windspeed (mph  Maximum gust speed (mph  \\\n",
       "0          '29.596'                  '41.4'                   '59.0'   \n",
       "1          '29.268'                  '35.7'                   '51.0'   \n",
       "2           '29.26'                  '25.3'                   '38.0'   \n",
       "3          '30.227'                  '12.7'                   '20.0'   \n",
       "4          '29.568'                  '38.0'                   '53.0'   \n",
       "\n",
       "   Maximum heat index (°F         Date1  Month          diff_pressure  \n",
       "0                  '40.0'  '2022-01-01'   '01'  '0.16600000000000037'  \n",
       "1                  '52.0'  '2022-01-02'   '01'   '0.4009999999999998'  \n",
       "2                  '41.0'  '2022-01-03'   '01'   '0.9719999999999978'  \n",
       "3                  '32.0'  '2022-01-04'   '01'  '0.33899999999999864'  \n",
       "4                  '32.0'  '2022-01-05'   '01'   '0.6649999999999991'  "
      ]
     },
     "execution_count": 3,
     "metadata": {},
     "output_type": "execute_result"
    }
   ],
   "source": [
    "df.head()"
   ]
  },
  {
   "cell_type": "markdown",
   "id": "cfc20687",
   "metadata": {},
   "source": [
    "### The weather data is recorded from 2022 till 2033."
   ]
  },
  {
   "cell_type": "markdown",
   "id": "b85db999",
   "metadata": {},
   "source": [
    "### Data pre-processing"
   ]
  },
  {
   "cell_type": "markdown",
   "id": "3282f0d5",
   "metadata": {},
   "source": [
    "#### As you can see in the dataframe, We have inconsistent dates, labels, duplicate columns and all columns need to be assigned proper data type."
   ]
  },
  {
   "cell_type": "markdown",
   "id": "43ce9c2d",
   "metadata": {},
   "source": [
    "#### Rename and drop duplicate columns"
   ]
  },
  {
   "cell_type": "code",
   "execution_count": 4,
   "id": "163be43a",
   "metadata": {},
   "outputs": [],
   "source": [
    "df=df.drop(['Date1'], axis=1)"
   ]
  },
  {
   "cell_type": "code",
   "execution_count": 5,
   "id": "d6da98e3",
   "metadata": {},
   "outputs": [],
   "source": [
    "df.columns=['date','temperature','avg_humidity','avg_dewpoint','avg_barometer',\n",
    "            'avg_windspeed','avg_gustspeed','avg_direction','monthly_rainfall',\n",
    "            'yearly_rainfall','rain_per_minute_max','temperature_max','temperature_min','humidity_max',\n",
    "            'humidity_min','pressure_max','pressure_min','windspeed_max','gust_speed_max',\n",
    "            'heat_index_max','month','diff_pressure']"
   ]
  },
  {
   "cell_type": "markdown",
   "id": "c934ae36",
   "metadata": {},
   "source": [
    "#### Our dataset contains  \" ' \" in every row, Replacing the \" ' \"  and  check for another symbols"
   ]
  },
  {
   "cell_type": "code",
   "execution_count": 6,
   "id": "5ecd41b6",
   "metadata": {},
   "outputs": [
    {
     "name": "stdout",
     "output_type": "stream",
     "text": [
      "date                    True\n",
      "temperature            False\n",
      "avg_humidity           False\n",
      "avg_dewpoint           False\n",
      "avg_barometer          False\n",
      "avg_windspeed          False\n",
      "avg_gustspeed          False\n",
      "avg_direction          False\n",
      "monthly_rainfall       False\n",
      "yearly_rainfall        False\n",
      "rain_per_minute_max    False\n",
      "temperature_max        False\n",
      "temperature_min        False\n",
      "humidity_max           False\n",
      "humidity_min           False\n",
      "pressure_max           False\n",
      "pressure_min           False\n",
      "windspeed_max          False\n",
      "gust_speed_max         False\n",
      "heat_index_max         False\n",
      "month                  False\n",
      "diff_pressure           True\n",
      "dtype: bool\n"
     ]
    }
   ],
   "source": [
    "symbol_pattern = r'[;:\"/\\\\]'\n",
    "has_symbols = df.apply(lambda x: x.str.contains(symbol_pattern).any())\n",
    "print(has_symbols)"
   ]
  },
  {
   "cell_type": "code",
   "execution_count": 7,
   "id": "2fc64822",
   "metadata": {},
   "outputs": [],
   "source": [
    "df = df.replace({\"'\": '', \";\": ''}, regex=True)"
   ]
  },
  {
   "cell_type": "markdown",
   "id": "fd28eda1",
   "metadata": {},
   "source": [
    "#### Drop duplicates"
   ]
  },
  {
   "cell_type": "code",
   "execution_count": 8,
   "id": "97a99d39",
   "metadata": {},
   "outputs": [
    {
     "data": {
      "text/plain": [
       "1"
      ]
     },
     "execution_count": 8,
     "metadata": {},
     "output_type": "execute_result"
    }
   ],
   "source": [
    "df.duplicated().sum()"
   ]
  },
  {
   "cell_type": "code",
   "execution_count": 9,
   "id": "17c6d545",
   "metadata": {},
   "outputs": [],
   "source": [
    "df = df.drop_duplicates()"
   ]
  },
  {
   "cell_type": "markdown",
   "id": "6587e66f",
   "metadata": {},
   "source": [
    "#### data types"
   ]
  },
  {
   "cell_type": "code",
   "execution_count": 10,
   "id": "f76cfdf7",
   "metadata": {},
   "outputs": [
    {
     "data": {
      "text/plain": [
       "date                   object\n",
       "temperature            object\n",
       "avg_humidity           object\n",
       "avg_dewpoint           object\n",
       "avg_barometer          object\n",
       "avg_windspeed          object\n",
       "avg_gustspeed          object\n",
       "avg_direction          object\n",
       "monthly_rainfall       object\n",
       "yearly_rainfall        object\n",
       "rain_per_minute_max    object\n",
       "temperature_max        object\n",
       "temperature_min        object\n",
       "humidity_max           object\n",
       "humidity_min           object\n",
       "pressure_max           object\n",
       "pressure_min           object\n",
       "windspeed_max          object\n",
       "gust_speed_max         object\n",
       "heat_index_max         object\n",
       "month                  object\n",
       "diff_pressure          object\n",
       "dtype: object"
      ]
     },
     "execution_count": 10,
     "metadata": {},
     "output_type": "execute_result"
    }
   ],
   "source": [
    "df.dtypes"
   ]
  },
  {
   "cell_type": "markdown",
   "id": "ac733e4c",
   "metadata": {},
   "source": [
    "#### Change data types"
   ]
  },
  {
   "cell_type": "code",
   "execution_count": 11,
   "id": "0a3ee981",
   "metadata": {},
   "outputs": [],
   "source": [
    "df['date'] = pd.to_datetime(df['date'],errors='ignore')"
   ]
  },
  {
   "cell_type": "code",
   "execution_count": 12,
   "id": "14e69c86",
   "metadata": {},
   "outputs": [
    {
     "data": {
      "text/plain": [
       "Index(['date', 'temperature', 'avg_humidity', 'avg_dewpoint', 'avg_barometer',\n",
       "       'avg_windspeed', 'avg_gustspeed', 'avg_direction', 'monthly_rainfall',\n",
       "       'yearly_rainfall', 'rain_per_minute_max', 'temperature_max',\n",
       "       'temperature_min', 'humidity_max', 'humidity_min', 'pressure_max',\n",
       "       'pressure_min', 'windspeed_max', 'gust_speed_max', 'heat_index_max',\n",
       "       'month', 'diff_pressure'],\n",
       "      dtype='object')"
      ]
     },
     "execution_count": 12,
     "metadata": {},
     "output_type": "execute_result"
    }
   ],
   "source": [
    "df.columns"
   ]
  },
  {
   "cell_type": "code",
   "execution_count": 13,
   "id": "24bc99a2",
   "metadata": {},
   "outputs": [],
   "source": [
    "dtype_dict = {'temperature':'float', 'avg_humidity':'float', 'avg_dewpoint':'float', 'avg_barometer':'float',\n",
    "       'avg_windspeed':'float', 'avg_gustspeed':'float', 'avg_direction':'float', 'monthly_rainfall':'float',\n",
    "       'yearly_rainfall':'float', 'rain_per_minute_max':'float', 'temperature_max':'float',\n",
    "       'temperature_min':'float', 'humidity_max':'float', 'humidity_min':'float', 'pressure_max':'float',\n",
    "       'pressure_min':'float', 'windspeed_max':'float', 'gust_speed_max':'float', 'heat_index_max':'float',\n",
    "       'month':'int', 'diff_pressure':'float'}\n",
    "df = df.astype(dtype_dict)"
   ]
  },
  {
   "cell_type": "code",
   "execution_count": 14,
   "id": "290ecb9a",
   "metadata": {},
   "outputs": [
    {
     "name": "stdout",
     "output_type": "stream",
     "text": [
      "Min Date 01/01/2022 | Max Date 2022-12-31\n"
     ]
    }
   ],
   "source": [
    "min_date = df['date'].min()\n",
    "max_date = df['date'].max()\n",
    "print (\"Min Date\",min_date,\"|\",\"Max Date\",max_date)"
   ]
  },
  {
   "cell_type": "markdown",
   "id": "13d5b245",
   "metadata": {},
   "source": [
    "#### Lets investigate if there is 29th February in date column"
   ]
  },
  {
   "cell_type": "code",
   "execution_count": 15,
   "id": "f07fa5f4",
   "metadata": {},
   "outputs": [],
   "source": [
    "df['date2'] = pd.to_datetime(df['date'], errors = 'coerce')"
   ]
  },
  {
   "cell_type": "code",
   "execution_count": 16,
   "id": "876814d6",
   "metadata": {},
   "outputs": [
    {
     "data": {
      "text/plain": [
       "2366    2022-02-29\n",
       "3751    2022-02-29\n",
       "Name: date, dtype: object"
      ]
     },
     "execution_count": 16,
     "metadata": {},
     "output_type": "execute_result"
    }
   ],
   "source": [
    "df[df['date2'].isna()]['date']"
   ]
  },
  {
   "cell_type": "code",
   "execution_count": 18,
   "id": "513e1511",
   "metadata": {},
   "outputs": [],
   "source": [
    "df.drop('date2',axis=1,inplace=True)"
   ]
  },
  {
   "cell_type": "markdown",
   "id": "da705b50",
   "metadata": {},
   "source": [
    "### Drop rows that contain 29th february date"
   ]
  },
  {
   "cell_type": "code",
   "execution_count": 19,
   "id": "c94c88b9",
   "metadata": {},
   "outputs": [],
   "source": [
    "df.drop(index=[2366, 3751],inplace=True)"
   ]
  },
  {
   "cell_type": "code",
   "execution_count": 20,
   "id": "3f0c1767",
   "metadata": {},
   "outputs": [],
   "source": [
    "df = df.reset_index(drop=True)"
   ]
  },
  {
   "cell_type": "code",
   "execution_count": 21,
   "id": "2a964be8",
   "metadata": {},
   "outputs": [],
   "source": [
    "df['date']=pd.to_datetime(df['date'])"
   ]
  },
  {
   "cell_type": "code",
   "execution_count": 22,
   "id": "aa175bd1",
   "metadata": {},
   "outputs": [
    {
     "data": {
      "text/plain": [
       "date                   datetime64[ns]\n",
       "temperature                   float64\n",
       "avg_humidity                  float64\n",
       "avg_dewpoint                  float64\n",
       "avg_barometer                 float64\n",
       "avg_windspeed                 float64\n",
       "avg_gustspeed                 float64\n",
       "avg_direction                 float64\n",
       "monthly_rainfall              float64\n",
       "yearly_rainfall               float64\n",
       "rain_per_minute_max           float64\n",
       "temperature_max               float64\n",
       "temperature_min               float64\n",
       "humidity_max                  float64\n",
       "humidity_min                  float64\n",
       "pressure_max                  float64\n",
       "pressure_min                  float64\n",
       "windspeed_max                 float64\n",
       "gust_speed_max                float64\n",
       "heat_index_max                float64\n",
       "month                           int32\n",
       "diff_pressure                 float64\n",
       "dtype: object"
      ]
     },
     "execution_count": 22,
     "metadata": {},
     "output_type": "execute_result"
    }
   ],
   "source": [
    "df.dtypes"
   ]
  },
  {
   "cell_type": "markdown",
   "id": "e1bd7e77",
   "metadata": {},
   "source": [
    "#### This data should contain day wise weather attributes from 2022 to July 2033 (predicted data), We have to correct the years, because in the provided dataset the date column have same year 2022 in every row."
   ]
  },
  {
   "cell_type": "code",
   "execution_count": 23,
   "id": "4c731e30",
   "metadata": {},
   "outputs": [],
   "source": [
    "from datetime import datetime, timedelta"
   ]
  },
  {
   "cell_type": "markdown",
   "id": "040cc788",
   "metadata": {},
   "source": [
    "#### We can increment a new year everytime january month starts and add the same year in the subsequent rows as well."
   ]
  },
  {
   "cell_type": "code",
   "execution_count": 24,
   "id": "951617c7",
   "metadata": {},
   "outputs": [],
   "source": [
    "current_year = df.loc[0, 'date'].year\n",
    "previous_month = df.loc[0, 'date'].month\n",
    "\n",
    "# loop through each row in the DataFrame\n",
    "for i, row in df.iterrows():\n",
    "    # check if the month is January\n",
    "    if row['date'].month == 1 and previous_month != 1:\n",
    "        # increment the current year by 1\n",
    "        current_year += 1\n",
    "    # update the Date column with the current date and year\n",
    "    df.loc[i, 'date'] = row['date'].replace(year=current_year)\n",
    "    # update the previous month variable\n",
    "    previous_month = row['date'].month"
   ]
  },
  {
   "cell_type": "code",
   "execution_count": 25,
   "id": "8e93700d",
   "metadata": {},
   "outputs": [
    {
     "name": "stdout",
     "output_type": "stream",
     "text": [
      "Min Date 2022-01-01 00:00:00 | Max Date 2033-07-28 00:00:00\n"
     ]
    }
   ],
   "source": [
    "min_date = df['date'].min()\n",
    "max_date = df['date'].max()\n",
    "print (\"Min Date\",min_date,\"|\",\"Max Date\",max_date)"
   ]
  },
  {
   "cell_type": "code",
   "execution_count": 26,
   "id": "583e4c8f",
   "metadata": {},
   "outputs": [
    {
     "data": {
      "text/html": [
       "<div>\n",
       "<style scoped>\n",
       "    .dataframe tbody tr th:only-of-type {\n",
       "        vertical-align: middle;\n",
       "    }\n",
       "\n",
       "    .dataframe tbody tr th {\n",
       "        vertical-align: top;\n",
       "    }\n",
       "\n",
       "    .dataframe thead th {\n",
       "        text-align: right;\n",
       "    }\n",
       "</style>\n",
       "<table border=\"1\" class=\"dataframe\">\n",
       "  <thead>\n",
       "    <tr style=\"text-align: right;\">\n",
       "      <th></th>\n",
       "      <th>date</th>\n",
       "      <th>temperature</th>\n",
       "      <th>avg_humidity</th>\n",
       "      <th>avg_dewpoint</th>\n",
       "      <th>avg_barometer</th>\n",
       "      <th>avg_windspeed</th>\n",
       "      <th>avg_gustspeed</th>\n",
       "      <th>avg_direction</th>\n",
       "      <th>monthly_rainfall</th>\n",
       "      <th>yearly_rainfall</th>\n",
       "      <th>rain_per_minute_max</th>\n",
       "      <th>temperature_max</th>\n",
       "      <th>temperature_min</th>\n",
       "      <th>humidity_max</th>\n",
       "      <th>humidity_min</th>\n",
       "      <th>pressure_max</th>\n",
       "      <th>pressure_min</th>\n",
       "      <th>windspeed_max</th>\n",
       "      <th>gust_speed_max</th>\n",
       "      <th>heat_index_max</th>\n",
       "      <th>month</th>\n",
       "      <th>diff_pressure</th>\n",
       "    </tr>\n",
       "  </thead>\n",
       "  <tbody>\n",
       "    <tr>\n",
       "      <th>0</th>\n",
       "      <td>2022-01-01</td>\n",
       "      <td>37.8</td>\n",
       "      <td>35.0</td>\n",
       "      <td>12.7</td>\n",
       "      <td>29.7</td>\n",
       "      <td>26.4</td>\n",
       "      <td>36.8</td>\n",
       "      <td>274.0</td>\n",
       "      <td>0.0</td>\n",
       "      <td>0.0</td>\n",
       "      <td>0.0</td>\n",
       "      <td>40.0</td>\n",
       "      <td>34.0</td>\n",
       "      <td>4.0</td>\n",
       "      <td>27.0</td>\n",
       "      <td>29.762</td>\n",
       "      <td>29.596</td>\n",
       "      <td>41.4</td>\n",
       "      <td>59.0</td>\n",
       "      <td>40.0</td>\n",
       "      <td>1</td>\n",
       "      <td>0.166</td>\n",
       "    </tr>\n",
       "    <tr>\n",
       "      <th>1</th>\n",
       "      <td>2022-01-02</td>\n",
       "      <td>43.2</td>\n",
       "      <td>32.0</td>\n",
       "      <td>14.7</td>\n",
       "      <td>29.5</td>\n",
       "      <td>12.8</td>\n",
       "      <td>18.0</td>\n",
       "      <td>240.0</td>\n",
       "      <td>0.0</td>\n",
       "      <td>0.0</td>\n",
       "      <td>0.0</td>\n",
       "      <td>52.0</td>\n",
       "      <td>37.0</td>\n",
       "      <td>4.0</td>\n",
       "      <td>16.0</td>\n",
       "      <td>29.669</td>\n",
       "      <td>29.268</td>\n",
       "      <td>35.7</td>\n",
       "      <td>51.0</td>\n",
       "      <td>52.0</td>\n",
       "      <td>1</td>\n",
       "      <td>0.401</td>\n",
       "    </tr>\n",
       "    <tr>\n",
       "      <th>2</th>\n",
       "      <td>2022-01-03</td>\n",
       "      <td>25.7</td>\n",
       "      <td>60.0</td>\n",
       "      <td>12.7</td>\n",
       "      <td>29.7</td>\n",
       "      <td>8.3</td>\n",
       "      <td>12.2</td>\n",
       "      <td>290.0</td>\n",
       "      <td>0.0</td>\n",
       "      <td>0.0</td>\n",
       "      <td>0.0</td>\n",
       "      <td>41.0</td>\n",
       "      <td>6.0</td>\n",
       "      <td>8.0</td>\n",
       "      <td>35.0</td>\n",
       "      <td>30.232</td>\n",
       "      <td>29.260</td>\n",
       "      <td>25.3</td>\n",
       "      <td>38.0</td>\n",
       "      <td>41.0</td>\n",
       "      <td>1</td>\n",
       "      <td>0.972</td>\n",
       "    </tr>\n",
       "    <tr>\n",
       "      <th>3</th>\n",
       "      <td>2022-01-04</td>\n",
       "      <td>9.3</td>\n",
       "      <td>67.0</td>\n",
       "      <td>0.1</td>\n",
       "      <td>30.4</td>\n",
       "      <td>2.9</td>\n",
       "      <td>4.5</td>\n",
       "      <td>47.0</td>\n",
       "      <td>0.0</td>\n",
       "      <td>0.0</td>\n",
       "      <td>0.0</td>\n",
       "      <td>19.0</td>\n",
       "      <td>-0.0</td>\n",
       "      <td>7.0</td>\n",
       "      <td>35.0</td>\n",
       "      <td>30.566</td>\n",
       "      <td>30.227</td>\n",
       "      <td>12.7</td>\n",
       "      <td>20.0</td>\n",
       "      <td>32.0</td>\n",
       "      <td>1</td>\n",
       "      <td>0.339</td>\n",
       "    </tr>\n",
       "    <tr>\n",
       "      <th>4</th>\n",
       "      <td>2022-01-05</td>\n",
       "      <td>23.5</td>\n",
       "      <td>30.0</td>\n",
       "      <td>-5.3</td>\n",
       "      <td>29.9</td>\n",
       "      <td>16.7</td>\n",
       "      <td>23.1</td>\n",
       "      <td>265.0</td>\n",
       "      <td>0.0</td>\n",
       "      <td>0.0</td>\n",
       "      <td>0.0</td>\n",
       "      <td>30.0</td>\n",
       "      <td>15.0</td>\n",
       "      <td>5.0</td>\n",
       "      <td>13.0</td>\n",
       "      <td>30.233</td>\n",
       "      <td>29.568</td>\n",
       "      <td>38.0</td>\n",
       "      <td>53.0</td>\n",
       "      <td>32.0</td>\n",
       "      <td>1</td>\n",
       "      <td>0.665</td>\n",
       "    </tr>\n",
       "  </tbody>\n",
       "</table>\n",
       "</div>"
      ],
      "text/plain": [
       "        date  temperature  avg_humidity  avg_dewpoint  avg_barometer  \\\n",
       "0 2022-01-01         37.8          35.0          12.7           29.7   \n",
       "1 2022-01-02         43.2          32.0          14.7           29.5   \n",
       "2 2022-01-03         25.7          60.0          12.7           29.7   \n",
       "3 2022-01-04          9.3          67.0           0.1           30.4   \n",
       "4 2022-01-05         23.5          30.0          -5.3           29.9   \n",
       "\n",
       "   avg_windspeed  avg_gustspeed  avg_direction  monthly_rainfall  \\\n",
       "0           26.4           36.8          274.0               0.0   \n",
       "1           12.8           18.0          240.0               0.0   \n",
       "2            8.3           12.2          290.0               0.0   \n",
       "3            2.9            4.5           47.0               0.0   \n",
       "4           16.7           23.1          265.0               0.0   \n",
       "\n",
       "   yearly_rainfall  rain_per_minute_max  temperature_max  temperature_min  \\\n",
       "0              0.0                  0.0             40.0             34.0   \n",
       "1              0.0                  0.0             52.0             37.0   \n",
       "2              0.0                  0.0             41.0              6.0   \n",
       "3              0.0                  0.0             19.0             -0.0   \n",
       "4              0.0                  0.0             30.0             15.0   \n",
       "\n",
       "   humidity_max  humidity_min  pressure_max  pressure_min  windspeed_max  \\\n",
       "0           4.0          27.0        29.762        29.596           41.4   \n",
       "1           4.0          16.0        29.669        29.268           35.7   \n",
       "2           8.0          35.0        30.232        29.260           25.3   \n",
       "3           7.0          35.0        30.566        30.227           12.7   \n",
       "4           5.0          13.0        30.233        29.568           38.0   \n",
       "\n",
       "   gust_speed_max  heat_index_max  month  diff_pressure  \n",
       "0            59.0            40.0      1          0.166  \n",
       "1            51.0            52.0      1          0.401  \n",
       "2            38.0            41.0      1          0.972  \n",
       "3            20.0            32.0      1          0.339  \n",
       "4            53.0            32.0      1          0.665  "
      ]
     },
     "execution_count": 26,
     "metadata": {},
     "output_type": "execute_result"
    }
   ],
   "source": [
    "df.head()"
   ]
  },
  {
   "cell_type": "markdown",
   "id": "bdb4b31e",
   "metadata": {},
   "source": [
    "#### Plot temperature over the date"
   ]
  },
  {
   "cell_type": "code",
   "execution_count": 27,
   "id": "873f0b62",
   "metadata": {},
   "outputs": [
    {
     "data": {
      "image/png": "[encoded data removed]",
      "text/plain": [
       "<Figure size 864x432 with 1 Axes>"
      ]
     },
     "metadata": {
      "needs_background": "light"
     },
     "output_type": "display_data"
    }
   ],
   "source": [
    "plt.figure(figsize=(12, 6))\n",
    "plt.plot(df['date'], df['temperature'])\n",
    "\n",
    "# show the plot\n",
    "plt.show()"
   ]
  },
  {
   "cell_type": "code",
   "execution_count": 28,
   "id": "73e68590",
   "metadata": {},
   "outputs": [],
   "source": [
    "df.to_csv('weather_data_cleaned.csv', index=False)"
   ]
  }
 ],
 "metadata": {
  "kernelspec": {
   "display_name": "Python 3 (ipykernel)",
   "language": "python",
   "name": "python3"
  },
  "language_info": {
   "codemirror_mode": {
    "name": "ipython",
    "version": 3
   },
   "file_extension": ".py",
   "mimetype": "text/x-python",
   "name": "python",
   "nbconvert_exporter": "python",
   "pygments_lexer": "ipython3",
   "version": "3.9.12"
  }
 },
 "nbformat": 4,
 "nbformat_minor": 5
}
